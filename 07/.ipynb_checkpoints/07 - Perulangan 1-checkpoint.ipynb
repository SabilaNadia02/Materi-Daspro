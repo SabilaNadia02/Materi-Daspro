{
 "cells": [
  {
   "cell_type": "markdown",
   "metadata": {},
   "source": [
    "### Nama : Sabila Nadia Islamia\n",
    "### NIM    : 2131710046\n",
    "\n",
    "\n",
    "\n",
    "## JOBSHEET 7\n",
    "\n",
    "## PERULANGAN 1\n",
    "\n",
    "### Tujuan\n",
    "\n",
    "Mahasiswa mampu menyelesaikan permasalahan/studi kasus menggunakan sintaks perulangan 1 dan mengimplemantasikannya dalam bahasa pemrogaman java.\n",
    "\n",
    "### Alat dan Bahan\n",
    "+ PC/laptop\n",
    "+ Browser(chrome, firefox, safari)\n",
    "+ Koneksi internet\n",
    "\n",
    "### Praktikum\n",
    "\n",
    "#### Percobaan 1 : Penggunaan for, while dan do-while\n",
    "\n",
    "#### Waktu percobaan : 40 menit\n",
    "\n",
    "1. Perhatikan flowchart perulangan for dibawah ini!\n",
    "\n",
    "    <p align=\"left\">\n",
    "    <img width=\"197\" height=\"259\" src=\"images/flowchartFaktorial.png\">\n",
    "    </p>\n",
    "    \n",
    "\n",
    "> Flowchart diatas digunakan untuk menghitung nilai faktorial, selanjutnya kita akan membuat programnya berdasarkan\n",
    "> flowchart di atas!\n",
    "\n",
    "2. Tambahkan library Scanner, deklarasi Scanner, dan buat variabel angka untuk menampung data yang diinput melalui keyboard\n",
    "\n"
   ]
  },
  {
   "cell_type": "code",
   "execution_count": 1,
   "metadata": {
    "pycharm": {
     "name": "#%%\n"
    }
   },
   "outputs": [],
   "source": [
    "// Ketik kode program di bawah sini\n",
    "import java.util.Scanner; \n",
    "Scanner input = new Scanner(System.in);"
   ]
  },
  {
   "cell_type": "markdown",
   "metadata": {},
   "source": [
    "3. Buatlah deklarasi dan inisialisasi variabel faktorial sesuai dengan flowchart diatas"
   ]
  },
  {
   "cell_type": "code",
   "execution_count": 2,
   "metadata": {},
   "outputs": [],
   "source": [
    "// Ketik kode program di bawah sini\n",
    "int angka;\n",
    "int faktorial = 1;"
   ]
  },
  {
   "cell_type": "markdown",
   "metadata": {},
   "source": [
    "4. Tambahkan struktur perulangan untuk menghitung hasil faktorial sebuah nilai yang diinputkan menggunakan for\n",
    "    \n",
    "    <p align=\"left\">\n",
    "    <img width=\"696\" height=\"124\" src=\"images/for.jpg\" align=\"left\">\n",
    "    </p>"
   ]
  },
  {
   "cell_type": "code",
   "execution_count": 3,
   "metadata": {},
   "outputs": [
    {
     "name": "stdout",
     "output_type": "stream",
     "text": [
      "===PROGRAM MENGHITUNG NILAI FAKTORIAL DENGAN FOR===\n",
      "Masukkan Bilangan : 5\n",
      "Nilai faktorial bilangan tersebut adalah : 120"
     ]
    }
   ],
   "source": [
    "// Ketik kode program di atas di bawah sini\n",
    "int angka;\n",
    "int faktorial = 1;\n",
    "\n",
    "System.out.println(\"===PROGRAM MENGHITUNG NILAI FAKTORIAL DENGAN FOR===\");\n",
    "System.out.print(\"Masukkan Bilangan : \");\n",
    "angka = input.nextInt();\n",
    "\n",
    "for (int i=1; i <= angka; i++){\n",
    "    faktorial = faktorial * i;\n",
    "}\n",
    "System.out.print(\"Nilai faktorial bilangan tersebut adalah : \" + faktorial);"
   ]
  },
  {
   "cell_type": "markdown",
   "metadata": {},
   "source": [
    "5. Ubah nilai variabel faktorial seperti semula. Kemudian gunakan struktur perulangan while untuk menghitung hasil faktorial sebuah nilai yang diinputkan\n",
    "    \n",
    "    <p align=\"left\">\n",
    "    <img width=\"696\" height=\"124\" src=\"images/while.jpg\" align=\"left\">\n",
    "    </p>"
   ]
  },
  {
   "cell_type": "code",
   "execution_count": 4,
   "metadata": {
    "scrolled": true
   },
   "outputs": [
    {
     "name": "stdout",
     "output_type": "stream",
     "text": [
      "===PROGRAM MENGHITUNG NILAI FAKTORIAL DENGAN WHILE===\n",
      "Masukkan Bilangan : 5\n",
      "Nilai faktorial bilangan tersebut adalah : 120"
     ]
    }
   ],
   "source": [
    "// Ketik kode program di atas di bawah sini\n",
    "\n",
    "import java.util.Scanner;\n",
    "\n",
    "Scanner input = new Scanner(System.in);\n",
    "int angka;\n",
    "int faktorial = 1;\n",
    "\n",
    "System.out.println(\"===PROGRAM MENGHITUNG NILAI FAKTORIAL DENGAN WHILE===\");\n",
    "System.out.print(\"Masukkan Bilangan : \");\n",
    "angka = input.nextInt();\n",
    "\n",
    "int i=1;\n",
    "while (i <= angka){\n",
    "    faktorial *= i; \n",
    "    i++; \n",
    "}\n",
    "System.out.print(\"Nilai faktorial bilangan tersebut adalah : \" + faktorial);"
   ]
  },
  {
   "cell_type": "markdown",
   "metadata": {},
   "source": [
    "6. Kembalikan lagi nilai variabel faktorial seperti semula. Gunakan struktur perulangan do-while untuk menghitung hasil faktorial sebuah nilai yang diinputkan\n",
    "    \n",
    "    <p align=\"left\">\n",
    "    <img width=\"696\" height=\"124\" src=\"images/dowhile.jpg\" align=\"left\">\n",
    "    </p>"
   ]
  },
  {
   "cell_type": "code",
   "execution_count": 5,
   "metadata": {},
   "outputs": [
    {
     "name": "stdout",
     "output_type": "stream",
     "text": [
      "===PROGRAM MENGHITUNG NILAI FAKTORIAL DENGAN DO-WHILE===\n",
      "Masukkan Bilangan : 5\n",
      "Nilai faktorial bilangan tersebut adalah : 120"
     ]
    }
   ],
   "source": [
    "// Ketik kode program di atas di bawah sini\n",
    "import java.util.Scanner;\n",
    "\n",
    "Scanner input = new Scanner(System.in);\n",
    "int angka;\n",
    "faktorial = 1;\n",
    "\n",
    "System.out.println(\"===PROGRAM MENGHITUNG NILAI FAKTORIAL DENGAN DO-WHILE===\");\n",
    "System.out.print(\"Masukkan Bilangan : \");\n",
    "angka = input.nextInt();\n",
    "\n",
    "int i = 1;\n",
    "do{\n",
    "    faktorial *= i;\n",
    "    i++;\n",
    "}\n",
    "while (i <= angka);\n",
    "System.out.print(\"Nilai faktorial bilangan tersebut adalah : \" + faktorial);"
   ]
  },
  {
   "cell_type": "markdown",
   "metadata": {},
   "source": [
    "##### Pertanyaan\n",
    "1. Pada program diatas, apakah kegunaan baris berikut?\n",
    "<p align=\"left\">\n",
    "    <img src=\"images/hitungFaktorial.jpg\" align=\"left\">\n",
    "    </p>"
   ]
  },
  {
   "cell_type": "markdown",
   "metadata": {},
   "source": [
    "### Jawaban\n",
    "\n",
    "Kegunaan baris berikut adalah untuk proses menghitung nilai faktorial dengan cara mengalikan nilai faktorial itu sendiri demham i.faktorial = faktorial * i"
   ]
  },
  {
   "cell_type": "markdown",
   "metadata": {},
   "source": [
    "2. Modifikasi program diatas dibagian struktur pemilihannya sehingga hasilnya menjadi seperti di bawah ini:\n",
    "<p align=\"left\">\n",
    "    <img src=\"images/modifP1.jpg\" align=\"left\">\n",
    "    </p>"
   ]
  },
  {
   "cell_type": "code",
   "execution_count": 6,
   "metadata": {},
   "outputs": [
    {
     "name": "stdout",
     "output_type": "stream",
     "text": [
      "=====PROGRAM MENGHITUNG NILAI FAKTORIAL DENGAN FOR=====\n",
      "Masukan Bilangan : 5\n",
      "5Faktorial = 1x2x3x4x5 = 120\n"
     ]
    }
   ],
   "source": [
    "// Ketik kode program di atas di bawah sini\n",
    "\n",
    "import java.util.Scanner;\n",
    "\n",
    "Scanner input = new Scanner(System.in);\n",
    "faktorial = 1;\n",
    "System.out.println(\"=====PROGRAM MENGHITUNG NILAI FAKTORIAL DENGAN FOR=====\");\n",
    "System.out.print(\"Masukan Bilangan : \");\n",
    "angka = input.nextInt();\n",
    "int i =1;\n",
    "System.out.print(angka + \"Faktorial = \" );\n",
    "for(i = 1; i <= angka; i++){\n",
    "    faktorial *= i;\n",
    "    if(i == angka){\n",
    "        System.out.print(i);\n",
    "    }else{\n",
    "        System.out.print(i + \"x\");\n",
    "    }\n",
    "}\n",
    "System.out.println(\" = \" + faktorial);"
   ]
  },
  {
   "cell_type": "markdown",
   "metadata": {},
   "source": [
    "#### Percobaan 2 : Keluar dari perulangan menggunakan break\n",
    "\n",
    "#### Waktu percobaan : 40 menit"
   ]
  },
  {
   "cell_type": "markdown",
   "metadata": {},
   "source": [
    "1. Buatlah perulangan dengan menggunakan for yang memanfaatkan keyword break\n",
    "<p align=\"left\">\n",
    "    <img width=\"696\" height=\"124\" src=\"images/for2.jpg\" align=\"left\">\n",
    "    </p>"
   ]
  },
  {
   "cell_type": "code",
   "execution_count": 7,
   "metadata": {},
   "outputs": [
    {
     "name": "stdout",
     "output_type": "stream",
     "text": [
      "===PROGRAM FOR LOOP DENGAN BREAK===\n",
      "Masukkan Bilangan : 5\n",
      "Masukkan Bilangan : 10\n",
      "Masukkan Bilangan : 15\n",
      "Masukkan Bilangan : 51\n",
      "Jumlah angka-angka yang telah dimasukkan : 81\n"
     ]
    }
   ],
   "source": [
    "// Ketik kode program di atas di bawah sini\n",
    "import java.util.Scanner;\n",
    "int angka, total;\n",
    "System.out.println(\"===PROGRAM FOR LOOP DENGAN BREAK===\");\n",
    "for (total = 0; true;){\n",
    "    System.out.print(\"Masukkan Bilangan : \");\n",
    "    angka = input.nextInt();\n",
    "    total += angka;\n",
    "    if (total>50) break;\n",
    "}\n",
    "System.out.println(\"Jumlah angka-angka yang telah dimasukkan : \" + total);"
   ]
  },
  {
   "cell_type": "markdown",
   "metadata": {},
   "source": [
    "2. Buat perulangan yang sama dengan struktur perulangan while\n",
    "<p align=\"left\">\n",
    "    <img width=\"696\" height=\"124\" src=\"images/while2.jpg\" align=\"left\">\n",
    "    </p>"
   ]
  },
  {
   "cell_type": "code",
   "execution_count": 8,
   "metadata": {},
   "outputs": [
    {
     "name": "stdout",
     "output_type": "stream",
     "text": [
      "===PROGRAM WHILE LOOP DENGAN BREAK===\n",
      "Masukkan Bilangan : 1\n",
      "Masukkan Bilangan : 2\n",
      "Masukkan Bilangan : 3\n",
      "Masukkan Bilangan : 100\n",
      "Jumlah angka-angka yang telah dimasukkan : 106\n"
     ]
    }
   ],
   "source": [
    "// Ketik kode program di atas di bawah sini\n",
    "import java.util.Scanner;\n",
    "int angka, total;\n",
    "System.out.println(\"===PROGRAM WHILE LOOP DENGAN BREAK===\");\n",
    "total = 0;\n",
    "while (true){\n",
    "    System.out.print(\"Masukkan Bilangan : \");\n",
    "    angka = input.nextInt();\n",
    "    total += angka;\n",
    "    if (total>50) break; \n",
    "}\n",
    "System.out.println(\"Jumlah angka-angka yang telah dimasukkan : \" + total);"
   ]
  },
  {
   "cell_type": "markdown",
   "metadata": {},
   "source": [
    "3. Tuliskan perulangan diatas dalam struktur do-while\n",
    "    <p align=\"left\">\n",
    "    <img width=\"696\" height=\"124\" src=\"images/dowhile2.jpg\" align=\"left\">\n",
    "    </p>"
   ]
  },
  {
   "cell_type": "code",
   "execution_count": 9,
   "metadata": {},
   "outputs": [
    {
     "name": "stdout",
     "output_type": "stream",
     "text": [
      "===PROGRAM DO-WHILE LOOP DENGAN BREAK===\n",
      "Masukkan Bilangan : 1\n",
      "Masukkan Bilangan : 2\n",
      "Masukkan Bilangan : 3\n",
      "Masukkan Bilangan : 4\n",
      "Masukkan Bilangan : 5\n",
      "Masukkan Bilangan : 100\n",
      "Jumlah angka-angka yang telah dimasukkan : 115\n"
     ]
    }
   ],
   "source": [
    "// Ketik kode program di atas di bawah sini\n",
    "import java.util.Scanner;\n",
    "Scanner input = new Scanner(System.in);\n",
    "\n",
    "int angka, total;\n",
    "System.out.println(\"===PROGRAM DO-WHILE LOOP DENGAN BREAK===\");\n",
    "total = 0;\n",
    "do\n",
    "{\n",
    "    System.out.print(\"Masukkan Bilangan : \");\n",
    "    angka = input.nextInt();\n",
    "    total += angka; \n",
    "    if (total>50) break; \n",
    "}\n",
    "while (true);\n",
    "System.out.println(\"Jumlah angka-angka yang telah dimasukkan : \" + total);"
   ]
  },
  {
   "cell_type": "markdown",
   "metadata": {},
   "source": [
    "##### Pertanyaan\n",
    "1. Jelaskan fungsi kode program yang telah dibuat pada percobaan diatas!"
   ]
  },
  {
   "cell_type": "markdown",
   "metadata": {},
   "source": [
    "### Jawaban\n",
    "\n",
    "Kode program diatas adalah statement BREAK yang berfungsi untuk menghentikan looping atau perulangan secara paksa disaat kondisi sudah sesuai dengan kondisi pada BREAK, dan selanjutnya akan mengeksekusi kode/ perintah di luar perulangan."
   ]
  },
  {
   "cell_type": "markdown",
   "metadata": {},
   "source": [
    "2. Jelaskan fungsi kode berikut!\n",
    "    <p align=\"left\">\n",
    "    <img src=\"images/forPertanyaan2.jpg\" align=\"left\">\n",
    "    </p>\n"
   ]
  },
  {
   "cell_type": "markdown",
   "metadata": {},
   "source": [
    "### Jawaban\n",
    "\n",
    "Kode program tersebut merupakan salah satu konstruksi dalam perulangan For, tempat dimana kita akan memberikan nilai awal pada variabel counter dan perhitungan tersebut akan terus bernilai dieksekusi, jika kondisi sesuai pada ekspresi kedua yaitu ekspresi kondisional yang bernilai true. Fungsinya untuk inisialisai nilai dan mendeklarasikan syarat atau kondisi yang harus dipenuhi agar looping terus terjadi.  "
   ]
  },
  {
   "cell_type": "markdown",
   "metadata": {},
   "source": [
    "#### Percobaan 3 : Keluar dari step perulangan menggunakan continue\n",
    "\n",
    "#### Waktu percobaan : 40 menit\n",
    "\n",
    "1. Buat program looping menggunakan struktur perulangan for seperti di bawah ini: \n",
    "<p align=\"left\">\n",
    "    <img src=\"images/forContinue.jpg\" align=\"left\">\n",
    "    </p>\n"
   ]
  },
  {
   "cell_type": "code",
   "execution_count": 10,
   "metadata": {},
   "outputs": [
    {
     "name": "stdout",
     "output_type": "stream",
     "text": [
      "===PROGRAM FOR LOOP DENGAN CONTINUE===\n",
      "Masukkan Bilangan : 50\n",
      "Masukkan Bilangan : 51\n",
      "Masukkan Bilangan : 1\n",
      "Masukkan Bilangan : 2\n",
      "Masukkan Bilangan : 3\n",
      "Jumlah angka-angka yang kurang dari 50: 6\n",
      "Rata-rata angka yang kurang dari 50: 2.0\n"
     ]
    }
   ],
   "source": [
    "// Ketik kode program di atas di bawah sini\n",
    "import java.util.Scanner; \n",
    "\n",
    "Scanner input = new Scanner(System.in);\n",
    "int angka, total, count;\n",
    "double avg;\n",
    "count = 0; \n",
    "System.out.println(\"===PROGRAM FOR LOOP DENGAN CONTINUE===\");\n",
    "for (int i = 0; i < 5; i++){\n",
    "    System.out.print(\"Masukkan Bilangan : \");\n",
    "    angka = input.nextInt();\n",
    "    if (angka >= 50) continue; \n",
    "    total += angka;\n",
    "    count++;\n",
    "}\n",
    "System.out.println(\"Jumlah angka-angka yang kurang dari 50: \" + total);\n",
    "avg = (double)total/count; \n",
    "System.out.println(\"Rata-rata angka yang kurang dari 50: \" + avg);"
   ]
  },
  {
   "cell_type": "markdown",
   "metadata": {},
   "source": [
    "5. Jalankan program. Amati apa yang terjadi!"
   ]
  },
  {
   "cell_type": "markdown",
   "metadata": {},
   "source": [
    "##### Pertanyaan\n",
    "1. Jelaskan Perbedaan dari percobaan 2 dan percobaan 3"
   ]
  },
  {
   "cell_type": "markdown",
   "metadata": {},
   "source": [
    "### Jawaban\n",
    "\n",
    "Pada Percobaan 2, kode program yang dijalankan adalah Statement BREAK yang berfungsi sebagai salah satu cara menghentikan looping atau perulangan. Sedangkan pada percobaan 3, kode program yang dijalankan adalah statement CONTINUE yang berarti melompati atau tidak akan mengeksekusi suatu iterasi yang memenuhi persyaratan continue, dan akan tetap melanjutkan perulangan pada syarat atau kondisi berikutnya. \n"
   ]
  },
  {
   "cell_type": "markdown",
   "metadata": {},
   "source": [
    "2. Jelaskan apa fungsi perintah kode program dibawah ini?\n",
    "<p align=\"left\">\n",
    "    <img width=\"352\" height=\"79\" src=\"images/continuePertanyaan.jpg\" align=\"left\">\n",
    "    </p>"
   ]
  },
  {
   "cell_type": "markdown",
   "metadata": {},
   "source": [
    "### Jawaban\n",
    "\n",
    "Perintah atau kode program tersebut adalah statement continue, fungsinya adalah jika angka yang dimasukkan dari inputan lebih besar atau sama dengan 50 maka angka tersebut memenuhi persyaratan continue, sehingga angka tersebut tidak akan di lewati/ tidak akan di eksekusi pada perhitungan rumus aritmatika dibawahnya yaitu total = total + angka dan increament. "
   ]
  },
  {
   "cell_type": "markdown",
   "metadata": {},
   "source": [
    "### Tugas\n",
    "\n",
    "#### Waktu pengerjaan Tugas: 140 menit\n",
    "\n",
    "1. Buatlah program yang meminta masukan user sebuah bilangan bulat N (N > 0). Program kemudian menampilkan penjumlahan N bilangan genap positif pertama (bilangan genap ≥ 0).\n",
    "Contoh: \n",
    "    •\tJika user memasukkan N = 10, program akan menghitung banyaknya jumlah bilangan positive di dalam range bilangan 1-10   kemudian menampilkan penjumlahan bilangan positive bilangan bilangan diantara 1-10 yaitu : \n",
    "        0 + 2 + 4 + 6 + 10 = 30. \n",
    "        Setelah itu program akan menampilkan rata-rata dari bilangan positive yang telah dijumlahkan tadi.\n",
    "    •\tContoh output program dan flowchart\n",
    "<br/><img width=\"303\" height=\"529\" src=\"images/hasilTugasFc.jpg\" align=\"left\"><br/>\n",
    "  \n",
    "\n",
    "<br/><img width=\"303\" height=\"529\" src=\"images/fcTugasJS7.png\" align=\"left\">\n"
   ]
  },
  {
   "cell_type": "code",
   "execution_count": 11,
   "metadata": {},
   "outputs": [
    {
     "name": "stdout",
     "output_type": "stream",
     "text": [
      "Masukkan Bilangan Bulat: 10\n",
      "Banyaknya bilangan genap dari 1 sampai 10 adalah 5\n",
      "Angka genap dalam range tersebut adalah,2,4,6,8,10\n",
      "Hasil penjumlahan bilangan genap dari 1 sampai 10 adalah: 30\n",
      "Rata-rata bilangan genap dari 1 sampai 10 adalah: 6.0\n"
     ]
    }
   ],
   "source": [
    "// Ketik kode program disini\n",
    "import java.util.Scanner;\n",
    "\n",
    "Scanner input = new Scanner(System.in);\n",
    "\tint bil, jmlhBilGenap; \n",
    "\tint totalGenap = 0; \n",
    "\tdouble avg; \n",
    "\n",
    "\tSystem.out.print(\"Masukkan Bilangan Bulat: \");\n",
    "\tbil = input.nextInt();\n",
    "\tjmlhBilGenap = bil/2; \n",
    "\n",
    "\tSystem.out.println(\"Banyaknya bilangan genap dari 1 sampai 10 adalah \" + jmlhBilGenap);\n",
    "\tSystem.out.print(\"Angka genap dalam range tersebut adalah\");\n",
    "\n",
    "\tfor(int i=1; i<= bil; i++){\n",
    "\t\tif (i%2!=0){\n",
    "\t\t\tcontinue;\n",
    "\t\t} \n",
    "\t\tSystem.out.print(\",\" + i);\n",
    "\t\ttotalGenap+=i;\n",
    "\t}\n",
    "avg = totalGenap/jmlhBilGenap; \n",
    "System.out.println(\"\\nHasil penjumlahan bilangan genap dari 1 sampai 10 adalah: \" + totalGenap);\n",
    "System.out.println(\"Rata-rata bilangan genap dari 1 sampai 10 adalah: \" + avg);"
   ]
  },
  {
   "cell_type": "markdown",
   "metadata": {},
   "source": [
    "2. Buatlah program untuk menampilkan angka 1 hingga angka masukan pengguna secara berurutan dan melompati angka kelipatan 5. Seperti tampilan di bawah ini\n",
    "<p align=\"left\">\n",
    "<img width=\"184\" height=\"328\" src=\"images/tugas1.jpg\" align=\"left\">\n",
    "</p>"
   ]
  },
  {
   "cell_type": "code",
   "execution_count": 12,
   "metadata": {},
   "outputs": [
    {
     "name": "stdout",
     "output_type": "stream",
     "text": [
      "Masukkan angka : 19\n",
      "1\n",
      "2\n",
      "3\n",
      "4\n",
      "6\n",
      "7\n",
      "8\n",
      "9\n",
      "11\n",
      "12\n",
      "13\n",
      "14\n",
      "16\n",
      "17\n",
      "18\n",
      "19\n"
     ]
    }
   ],
   "source": [
    "// Ketik kode program disini\n",
    "\n",
    "import java.util.Scanner; \n",
    "\n",
    "int angka;\n",
    "\n",
    "System.out.print(\"Masukkan angka : \");\n",
    "angka = input.nextInt();\n",
    "\n",
    "for(int i=1; i<=angka; i++){\n",
    "\tif (i%5==0){\n",
    "\t\tcontinue;\n",
    "\t}\n",
    "\tSystem.out.println(i);\n",
    "}"
   ]
  },
  {
   "cell_type": "markdown",
   "metadata": {},
   "source": [
    "3. Buatlah sebuah program yang menampilkan deret bilangan fibonacci sebagai berikut. Dimana bilangan yang terletak di sebelah kanan adalah hasil penjumlahan dari 2 bilangan sebelumnya\n",
    " <p align=\"left\">\n",
    "    <img width=\"451\" height=\"226\" src=\"images/fibo.png\" align=\"left\">\n",
    "    </p>\n"
   ]
  },
  {
   "cell_type": "code",
   "execution_count": 17,
   "metadata": {},
   "outputs": [
    {
     "name": "stdout",
     "output_type": "stream",
     "text": [
      "\n",
      "Fibonacci Series\n",
      "\n",
      "Sum of : 0+1=1\n",
      "Sum of : 1+1=2\n",
      "Sum of : 1+2=3\n",
      "Sum of : 2+3=5\n",
      "Sum of : 3+5=8\n",
      "Sum of : 5+8=13\n",
      "Sum of : 8+13=21\n",
      "Sum of : 13+21=34\n",
      "Sum of : 21+34=55\n",
      "Sum of : 34+55=89\n"
     ]
    }
   ],
   "source": [
    "// Ketik kode program disini\n",
    "\n",
    "int bil1=0, bil2=1, hasil;\n",
    "\n",
    "System.out.println(\"\\nFibonacci Series\\n\");\n",
    "\n",
    "for (int i=1; i<=10; i++){\n",
    "\thasil = bil1 + bil2; \n",
    "\tSystem.out.println(\"Sum of : \" + bil1 + \"+\" + bil2 + \"=\" + hasil);\n",
    "\n",
    "\tbil1 = bil2;\n",
    "\tbil2 = hasil;\n",
    "}"
   ]
  }
 ],
 "metadata": {
  "kernelspec": {
   "display_name": "Java",
   "language": "java",
   "name": "java"
  },
  "language_info": {
   "codemirror_mode": "java",
   "file_extension": ".jshell",
   "mimetype": "text/x-java-source",
   "name": "Java",
   "pygments_lexer": "java",
   "version": "11.0.12+8-LTS-237"
  },
  "nteract": {
   "version": "nteract-on-jupyter@2.1.3"
  }
 },
 "nbformat": 4,
 "nbformat_minor": 1
}
